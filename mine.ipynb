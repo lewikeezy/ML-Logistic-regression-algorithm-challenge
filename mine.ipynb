{
 "cells": [
  {
   "cell_type": "code",
   "execution_count": 2,
   "metadata": {},
   "outputs": [],
   "source": [
    "#Import the required modules\n",
    "from sklearn.datasets import make_classification\n",
    "from matplotlib import pyplot as plt\n",
    "from sklearn.linear_model import LogisticRegression\n",
    "import seaborn as sns\n",
    "sns.set()\n",
    "from sklearn.model_selection import train_test_split\n",
    "from sklearn.metrics import confusion_matrix\n",
    "import pandas as pd"
   ]
  },
  {
   "cell_type": "code",
   "execution_count": 7,
   "metadata": {},
   "outputs": [
    {
     "name": "stdout",
     "output_type": "stream",
     "text": [
      "[[-1.04798669]\n",
      " [-1.18533122]\n",
      " [ 1.30388268]\n",
      " [ 0.77921082]\n",
      " [-0.66270304]\n",
      " [-0.73517511]\n",
      " [ 1.0129303 ]\n",
      " [-0.93736332]\n",
      " [-1.22869413]\n",
      " [-1.29906245]\n",
      " [ 0.84625523]\n",
      " [-0.44678384]\n",
      " [-1.27810116]\n",
      " [-0.81715397]\n",
      " [-1.3759646 ]\n",
      " [-1.45907172]\n",
      " [ 0.86213447]\n",
      " [ 1.31966782]\n",
      " [ 0.992724  ]\n",
      " [-0.59239048]\n",
      " [-1.04680338]\n",
      " [-0.09286521]\n",
      " [ 0.97648125]\n",
      " [-1.1542901 ]\n",
      " [ 0.64743536]\n",
      " [ 0.83918906]\n",
      " [ 1.2009213 ]\n",
      " [ 1.10163923]\n",
      " [-0.55377165]\n",
      " [ 0.85945976]\n",
      " [-1.33699615]\n",
      " [-0.70839315]\n",
      " [-0.89077893]\n",
      " [ 1.3955816 ]\n",
      " [ 0.79877718]\n",
      " [-1.10126753]\n",
      " [-0.77791645]\n",
      " [-0.9837044 ]\n",
      " [-0.00471974]\n",
      " [ 0.42358359]\n",
      " [ 0.97323393]\n",
      " [ 1.01961803]\n",
      " [ 0.88678014]\n",
      " [-0.58178967]\n",
      " [-1.01645497]\n",
      " [ 1.01866018]\n",
      " [ 0.97811732]\n",
      " [-0.46328955]\n",
      " [-0.58220468]\n",
      " [ 1.200104  ]\n",
      " [ 0.96129761]\n",
      " [ 1.07521231]\n",
      " [-1.06676283]\n",
      " [ 0.66703245]\n",
      " [-1.48266358]\n",
      " [-0.95379103]\n",
      " [-0.50922448]\n",
      " [ 0.5766528 ]\n",
      " [-0.68286227]\n",
      " [-1.07421386]\n",
      " [-0.79172877]\n",
      " [-1.32897534]\n",
      " [ 0.92527711]\n",
      " [-1.63144075]\n",
      " [ 0.98152769]\n",
      " [-0.9277596 ]\n",
      " [ 0.99513204]\n",
      " [-1.56576004]\n",
      " [-1.18322963]\n",
      " [-1.26981413]\n",
      " [ 1.17981389]\n",
      " [ 1.19795714]\n",
      " [-0.8895733 ]\n",
      " [ 1.30158202]\n",
      " [ 0.96883211]\n",
      " [ 0.75274277]\n",
      " [-1.02120842]\n",
      " [-0.90877379]\n",
      " [-0.6296421 ]\n",
      " [ 0.86470982]\n",
      " [-0.8515186 ]\n",
      " [ 1.16013882]\n",
      " [-0.75516721]\n",
      " [-1.32044924]\n",
      " [ 1.08864952]\n",
      " [ 1.31526124]\n",
      " [-0.69391671]\n",
      " [ 0.93398792]\n",
      " [-1.42212025]\n",
      " [-1.16417858]\n",
      " [-1.21467772]\n",
      " [-1.27889807]\n",
      " [-0.3769908 ]\n",
      " [ 0.91999288]\n",
      " [-1.56485036]\n",
      " [-1.01986862]\n",
      " [ 0.84728703]\n",
      " [-0.66573826]\n",
      " [ 0.99244273]\n",
      " [ 1.15776142]\n",
      " [ 1.01505624]\n",
      " [ 0.89444983]\n",
      " [ 1.50345731]\n",
      " [-0.99158212]\n",
      " [ 1.15662115]\n",
      " [ 0.99783538]\n",
      " [ 0.86208113]\n",
      " [-0.55094122]\n",
      " [ 0.99835555]\n",
      " [ 0.71681001]\n",
      " [-1.91372087]\n",
      " [ 0.76479732]\n",
      " [ 1.27156396]\n",
      " [ 1.09839751]\n",
      " [ 1.00400252]\n",
      " [-0.75344864]\n",
      " [ 0.60223506]\n",
      " [-1.73194991]\n",
      " [-1.5929839 ]\n",
      " [-1.28884636]\n",
      " [ 0.87351535]\n",
      " [ 0.48517228]\n",
      " [-1.52216478]\n",
      " [ 0.69444818]\n",
      " [ 0.85601014]\n",
      " [-1.34117394]\n",
      " [ 1.06720227]\n",
      " [-1.31004995]\n",
      " [-0.97309369]\n",
      " [-0.83737283]\n",
      " [ 0.82328655]\n",
      " [-1.36708274]\n",
      " [ 0.70692957]\n",
      " [ 1.03636045]\n",
      " [-0.99336523]\n",
      " [-0.87996869]\n",
      " [-1.36451102]\n",
      " [ 0.68029636]\n",
      " [-1.41461592]\n",
      " [ 1.16286916]\n",
      " [-1.08334534]\n",
      " [ 0.85772781]\n",
      " [-1.11696295]\n",
      " [ 0.87627224]\n",
      " [ 0.95710966]\n",
      " [ 0.75226261]\n",
      " [ 0.69270705]\n",
      " [-1.7941007 ]\n",
      " [ 0.90707982]\n",
      " [ 0.88402826]\n",
      " [-1.01107845]\n",
      " [-0.29958654]\n",
      " [-1.13859804]\n",
      " [ 1.07290754]\n",
      " [ 0.60718351]\n",
      " [ 1.09774186]\n",
      " [ 0.83100714]\n",
      " [-1.96633847]\n",
      " [-0.98418513]\n",
      " [-0.9663529 ]\n",
      " [ 1.1207593 ]\n",
      " [ 1.52081546]\n",
      " [ 1.04894859]\n",
      " [ 0.79643643]\n",
      " [ 0.92910662]\n",
      " [ 0.91140536]\n",
      " [-0.46227849]\n",
      " [ 0.88936215]\n",
      " [ 0.93760681]\n",
      " [ 0.83783787]\n",
      " [-1.86302163]\n",
      " [-1.1519962 ]\n",
      " [-1.27718473]\n",
      " [ 0.77842533]\n",
      " [ 1.04897324]\n",
      " [ 0.89562746]\n",
      " [-1.52215334]\n",
      " [ 0.72946825]\n",
      " [ 1.0339013 ]\n",
      " [-1.30609303]\n",
      " [-1.19891745]\n",
      " [-0.77372154]\n",
      " [-1.21857242]\n",
      " [-0.57381702]\n",
      " [-0.92105519]\n",
      " [-1.56994703]\n",
      " [ 0.83183766]\n",
      " [ 0.9388098 ]\n",
      " [-0.92321381]\n",
      " [ 0.95491747]\n",
      " [ 0.97491984]\n",
      " [ 1.27302445]\n",
      " [ 0.86112564]\n",
      " [-1.12353232]\n",
      " [-0.53593672]\n",
      " [ 1.37928873]\n",
      " [-0.771236  ]\n",
      " [ 0.94489733]\n",
      " [-1.01449996]\n",
      " [ 0.95553333]]\n"
     ]
    }
   ],
   "source": [
    "print(x)"
   ]
  },
  {
   "cell_type": "code",
   "execution_count": 9,
   "metadata": {},
   "outputs": [
    {
     "name": "stdout",
     "output_type": "stream",
     "text": [
      "[0 0 1 0 0 0 1 0 0 0 0 0 0 0 0 0 1 1 1 0 0 0 1 0 1 1 1 1 0 1 0 0 0 1 1 0 0\n",
      " 0 0 0 1 1 1 0 0 1 1 0 0 1 1 1 0 0 0 0 0 0 0 0 0 0 1 0 1 0 1 0 0 0 1 1 0 1\n",
      " 1 1 0 0 0 1 0 1 0 0 1 1 0 1 0 1 0 0 0 1 0 0 1 0 1 1 1 1 1 0 1 1 1 0 1 1 0\n",
      " 1 1 1 1 0 1 0 0 0 1 1 0 1 1 0 1 0 0 0 1 0 1 1 0 0 0 1 0 1 0 1 0 1 1 1 1 0\n",
      " 1 1 0 0 0 1 1 1 1 0 0 0 1 1 1 1 1 1 0 1 1 1 0 0 0 1 1 1 0 1 1 0 0 0 0 0 0\n",
      " 0 1 1 0 1 1 1 1 0 0 1 0 1 0 1]\n"
     ]
    }
   ],
   "source": [
    "print(y)"
   ]
  },
  {
   "cell_type": "code",
   "execution_count": 6,
   "metadata": {},
   "outputs": [],
   "source": [
    "#Generate the data set\n",
    "x,y = make_classification(n_samples=200,\n",
    "                         n_features=1,\n",
    "                         n_classes=2,\n",
    "                         n_clusters_per_class=1,\n",
    "                         flip_y=0.03,\n",
    "                          n_informative=1,\n",
    "                          n_redundant=0,\n",
    "                          n_repeated=0 \n",
    "                         )"
   ]
  },
  {
   "cell_type": "code",
   "execution_count": 10,
   "metadata": {},
   "outputs": [
    {
     "data": {
      "image/png": "[encoded data removed]",
      "text/plain": [
       "<Figure size 432x288 with 1 Axes>"
      ]
     },
     "metadata": {},
     "output_type": "display_data"
    }
   ],
   "source": [
    "#Visualize using scatter plot\n",
    "plt.scatter(x,y,cmap='Reds')\n",
    "plt.show()\n"
   ]
  },
  {
   "cell_type": "code",
   "execution_count": 11,
   "metadata": {},
   "outputs": [],
   "source": [
    "#Split dataset into training and test data set\n",
    "x_train, x_test, y_train,  y_test=train_test_split(x,y, random_state=1)"
   ]
  },
  {
   "cell_type": "code",
   "execution_count": 12,
   "metadata": {},
   "outputs": [],
   "source": [
    "#Create the Logistic Regression Object\n",
    "Ir = LogisticRegression()"
   ]
  },
  {
   "cell_type": "code",
   "execution_count": 14,
   "metadata": {},
   "outputs": [
    {
     "data": {
      "text/plain": [
       "LogisticRegression(C=1.0, class_weight=None, dual=False, fit_intercept=True,\n",
       "          intercept_scaling=1, max_iter=100, multi_class='ovr', n_jobs=1,\n",
       "          penalty='l2', random_state=None, solver='liblinear', tol=0.0001,\n",
       "          verbose=0, warm_start=False)"
      ]
     },
     "execution_count": 14,
     "metadata": {},
     "output_type": "execute_result"
    }
   ],
   "source": [
    "#Perform Logistic Regression\n",
    "Ir.fit(x_train,y_train)"
   ]
  },
  {
   "cell_type": "code",
   "execution_count": 15,
   "metadata": {},
   "outputs": [
    {
     "name": "stdout",
     "output_type": "stream",
     "text": [
      "[[3.3859551]]\n",
      "[-0.47024533]\n"
     ]
    }
   ],
   "source": [
    "#Observe the coefficient and intercept\n",
    "print(Ir.coef_)\n",
    "print(Ir.intercept_)"
   ]
  },
  {
   "cell_type": "code",
   "execution_count": 16,
   "metadata": {},
   "outputs": [],
   "source": [
    "#make prediction at this point\n",
    "y_pred = Ir.predict(x_test)"
   ]
  },
  {
   "cell_type": "code",
   "execution_count": 19,
   "metadata": {},
   "outputs": [
    {
     "data": {
      "text/plain": [
       "array([[30,  1],\n",
       "       [ 1, 18]], dtype=int64)"
      ]
     },
     "execution_count": 19,
     "metadata": {},
     "output_type": "execute_result"
    }
   ],
   "source": [
    "#Display the confusion matrix\n",
    "confusion_matrix(y_test, y_pred)"
   ]
  },
  {
   "cell_type": "code",
   "execution_count": null,
   "metadata": {},
   "outputs": [],
   "source": []
  }
 ],
 "metadata": {
  "kernelspec": {
   "display_name": "Python 3",
   "language": "python",
   "name": "python3"
  }
 },
 "nbformat": 4,
 "nbformat_minor": 2
}
